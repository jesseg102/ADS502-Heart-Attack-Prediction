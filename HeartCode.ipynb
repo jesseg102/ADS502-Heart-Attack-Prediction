{
 "cells": [
  {
   "cell_type": "markdown",
   "metadata": {},
   "source": [
    "# Group Project: Heart Attach Analysis & Prediction\n",
    "### By: Halee Staggs, Vicky van der Wagt, Jesse Gutierrez\n",
    "\n",
    "Code URL: https://www.kaggle.com/datasets/rashikrahmanpritom/heart-attack-analysis-prediction-dataset?resource=download \n",
    "\n",
    "#### Dataset Summary Breakdown\n",
    "\n",
    "**Age** : Age of the patient\n",
    "\n",
    "**Sex** : Sex of the patient\n",
    "\n",
    "**exang**: exercise induced angina (1 = yes; 0 = no)\n",
    "\n",
    "**ca**: number of major vessels (0-3)\n",
    "\n",
    "**cp**: Chest Pain type chest pain type\n",
    "\n",
    "**Value 1**: typical angina\n",
    "\n",
    "**Value 2**: atypical angina\n",
    "\n",
    "**Value 3**: non-anginal pain\n",
    "\n",
    "**Value 4**: asymptomatic\n",
    "\n",
    "**trtbps**: resting blood pressure (in mm Hg)\n",
    "\n",
    "**chol**: cholestoral in mg/dl fetched via BMI sensor\n",
    "\n",
    "**fbs**: (fasting blood sugar > 120 mg/dl) (1 = true; 0 = false)\n",
    "\n",
    "**rest_ecg**: resting electrocardiographic results\n",
    "\n",
    "**Value 0**: normal\n",
    "\n",
    "**Value 1**: having ST-T wave abnormality (T wave inversions and/or ST elevation or depression of > 0.05 mV)\n",
    "\n",
    "**Value 2**: showing probable or definite left ventricular hypertrophy by Estes' criteria\n",
    "\n",
    "**thalach**: maximum heart rate achieved\n",
    "\n",
    "**target**: 0= less chance of heart attack 1= more chance of heart attack"
   ]
  },
  {
   "cell_type": "code",
   "execution_count": 16,
   "metadata": {},
   "outputs": [
    {
     "name": "stdout",
     "output_type": "stream",
     "text": [
      "The rpy2.ipython extension is already loaded. To reload it, use:\n",
      "  %reload_ext rpy2.ipython\n"
     ]
    }
   ],
   "source": [
    "# I installed this in the terminal: conda install -c r r-essentials, conda install -c r rpy2, pip install tzlocal, pip install --upgrade rpy2, & pip install --force-reinstall cffi\n",
    "# Had to load the following command to generate R in my vs code jupyter notebook\n",
    "%load_ext rpy2.ipython"
   ]
  },
  {
   "cell_type": "code",
   "execution_count": 19,
   "metadata": {},
   "outputs": [
    {
     "name": "stdout",
     "output_type": "stream",
     "text": [
      "  age sex cp trtbps chol fbs restecg thalachh exng oldpeak slp caa thall output\n",
      "1  63   1  3    145  233   1       0      150    0     2.3   0   0     1      1\n",
      "2  37   1  2    130  250   0       1      187    0     3.5   0   0     2      1\n",
      "3  41   0  1    130  204   0       0      172    0     1.4   2   0     2      1\n",
      "4  56   1  1    120  236   0       1      178    0     0.8   2   0     2      1\n",
      "5  57   0  0    120  354   0       1      163    1     0.6   2   0     2      1\n",
      "6  57   1  0    140  192   0       1      148    0     0.4   1   0     1      1\n"
     ]
    }
   ],
   "source": [
    "%%R\n",
    "# Loaded the dataset which was downloaded through Kaggle\n",
    "data <- read.csv('/Users/jesse/Desktop/School/University of San Diego/ADS 502- Applied Data Mining/Group Project/heart.csv')\n",
    "head(data)"
   ]
  },
  {
   "cell_type": "code",
   "execution_count": 4,
   "metadata": {},
   "outputs": [
    {
     "name": "stdout",
     "output_type": "stream",
     "text": [
      "[1] 303  14\n"
     ]
    }
   ],
   "source": [
    "%%R\n",
    "# Sought to identify the total observations & attributes of the DS\n",
    "dim(data)"
   ]
  },
  {
   "cell_type": "code",
   "execution_count": 21,
   "metadata": {},
   "outputs": [
    {
     "name": "stdout",
     "output_type": "stream",
     "text": [
      "     age      sex       cp   trtbps     chol      fbs  restecg thalachh \n",
      "       0        0        0        0        0        0        0        0 \n",
      "    exng  oldpeak      slp      caa    thall   output \n",
      "       0        0        0        0        0        0 \n"
     ]
    }
   ],
   "source": [
    "%%R\n",
    "# Wanted to see if there was any null values\n",
    "colSums(is.na(data))"
   ]
  },
  {
   "cell_type": "code",
   "execution_count": 13,
   "metadata": {},
   "outputs": [
    {
     "name": "stdout",
     "output_type": "stream",
     "text": [
      "                [,1]\n",
      "age      -0.22543872\n",
      "sex      -0.28093658\n",
      "cp        0.43379826\n",
      "trtbps   -0.14493113\n",
      "chol     -0.08523911\n",
      "fbs      -0.02804576\n",
      "restecg   0.13722950\n",
      "thalachh  0.42174093\n",
      "exng     -0.43675708\n",
      "oldpeak  -0.43069600\n",
      "slp       0.34587708\n",
      "caa      -0.39172399\n",
      "thall    -0.34402927\n",
      "output    1.00000000\n"
     ]
    }
   ],
   "source": [
    "%%R\n",
    "# Wanted to see if there were any corr. w/ output & the other attributes\n",
    "cor(data, data$output)"
   ]
  },
  {
   "cell_type": "code",
   "execution_count": 39,
   "metadata": {},
   "outputs": [
    {
     "name": "stdout",
     "output_type": "stream",
     "text": [
      "[1] \"Training data dimensions: 243 x 14\"\n",
      "[1] \"Test data dimensions: 60 x 14\"\n"
     ]
    }
   ],
   "source": [
    "%%R\n",
    "# Downloaded necessary package to split dataset\n",
    "library(caret)\n",
    "# Split the data by 80% test & 20% train\n",
    "index <- createDataPartition(data$output, p = 0.8, list = FALSE)\n",
    "# Subset for training data\n",
    "training_data <- data[index, ] \n",
    "# Subset for test data\n",
    "test_data <- data[-index, ] \n",
    "\n",
    "# Print out the dimensions for training & test subsets\n",
    "print(paste('Training data dimensions:', paste(dim(training_data), collapse = \" x \")))\n",
    "print(paste('Test data dimensions:', paste(dim(test_data), collapse = \" x \")))"
   ]
  },
  {
   "cell_type": "code",
   "execution_count": 41,
   "metadata": {},
   "outputs": [
    {
     "data": {
      "image/png": "[encoded data removed]"
     },
     "metadata": {},
     "output_type": "display_data"
    }
   ],
   "source": [
    "%%R\n",
    "# Load required library\n",
    "library(rpart)\n",
    "\n",
    "# Create the formula for the decision tree based on assigned variables\n",
    "formula <- output ~ thalachh + cp + exng + oldpeak\n",
    "\n",
    "# Build decision tree model\n",
    "cart_model <- rpart(formula, data = training_data, method = \"class\")\n",
    "\n",
    "# Had the adjust the dimensions of decision tree as it was too crammed\n",
    "par(mar=c(5,5,2,2))\n",
    "plot(cart_model, main=\"Classification Tree\", cex=0.7, margin=0.1, branch=0.6)\n",
    "text(cart_model, use.n=TRUE, all=TRUE, cex=0.7)\n",
    "\n",
    "# In these sets of codes, it added number of observations in each leaf\n",
    "n_leaf <- table(cart_model$where)\n",
    "n_leaf_pct <- paste0(sprintf(\"%.2f\", prop.table(n_leaf)*100), \"%\")\n",
    "n_leaf_text <- paste0(n_leaf, \" (\", n_leaf_pct, \")\")\n",
    "legend(\"topright\", legend=n_leaf_text, bty=\"n\", cex=0.7)\n",
    "\n",
    "# Predict on test data\n",
    "y_pred <- predict(cart_model, training_data, type = \"class\")"
   ]
  },
  {
   "cell_type": "code",
   "execution_count": 49,
   "metadata": {},
   "outputs": [
    {
     "name": "stdout",
     "output_type": "stream",
     "text": [
      "   predict_data\n",
      "     0  1\n",
      "  0 19  8\n",
      "  1  3 30\n"
     ]
    }
   ],
   "source": [
    "%%R\n",
    "# Applied model on test data\n",
    "predict_data <- predict(cart_model, test_data, type = 'class')\n",
    "\n",
    "# Created a table to determine the accuracy of the model\n",
    "output <- table(test_data$output, predict_data)\n",
    "output"
   ]
  },
  {
   "cell_type": "code",
   "execution_count": 57,
   "metadata": {},
   "outputs": [
    {
     "name": "stdout",
     "output_type": "stream",
     "text": [
      "[1] \"The accuracy of the model is: 81.6667 %\"\n"
     ]
    }
   ],
   "source": [
    "%%R\n",
    "# Calculate the accuracy of the created model\n",
    "accuracy <- round((sum(diag(output)) / sum(output)) * 100, 4)\n",
    "print(paste('The accuracy of the model is:', paste(accuracy), paste('%'), collapse = ' x '))"
   ]
  }
 ],
 "metadata": {
  "kernelspec": {
   "display_name": "Python 3.7.7 ('ADS502')",
   "language": "python",
   "name": "python3"
  },
  "language_info": {
   "codemirror_mode": {
    "name": "ipython",
    "version": 3
   },
   "file_extension": ".py",
   "mimetype": "text/x-python",
   "name": "python",
   "nbconvert_exporter": "python",
   "pygments_lexer": "ipython3",
   "version": "3.7.7"
  },
  "orig_nbformat": 4,
  "vscode": {
   "interpreter": {
    "hash": "796c0ea7ced6f336a76f59f66a5532c591c03f4737dce09c64b88652533010c8"
   }
  }
 },
 "nbformat": 4,
 "nbformat_minor": 2
}
