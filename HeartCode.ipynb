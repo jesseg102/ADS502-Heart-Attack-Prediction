{
 "cells": [
  {
   "cell_type": "markdown",
   "metadata": {},
   "source": [
    "# Group Project: Heart Attach Analysis & Prediction\n",
    "### By: Halee Staggs, Vicky van der Wagt, Jesse Gutierrez\n",
    "\n",
    "Code URL: https://www.kaggle.com/datasets/rashikrahmanpritom/heart-attack-analysis-prediction-dataset?resource=download \n",
    "\n",
    "#### Dataset Summary Breakdown\n",
    "\n",
    "**Age** : Age of the patient\n",
    "\n",
    "**Sex** : Sex of the patient\n",
    "\n",
    "**exang**: exercise induced angina (1 = yes; 0 = no)\n",
    "\n",
    "**ca**: number of major vessels (0-3)\n",
    "\n",
    "**cp**: Chest Pain type chest pain type\n",
    "\n",
    "**Value 1**: typical angina\n",
    "\n",
    "**Value 2**: atypical angina\n",
    "\n",
    "**Value 3**: non-anginal pain\n",
    "\n",
    "**Value 4**: asymptomatic\n",
    "\n",
    "**trtbps**: resting blood pressure (in mm Hg)\n",
    "\n",
    "**chol**: cholestoral in mg/dl fetched via BMI sensor\n",
    "\n",
    "**fbs**: (fasting blood sugar > 120 mg/dl) (1 = true; 0 = false)\n",
    "\n",
    "**rest_ecg**: resting electrocardiographic results\n",
    "\n",
    "**Value 0**: normal\n",
    "\n",
    "**Value 1**: having ST-T wave abnormality (T wave inversions and/or ST elevation or depression of > 0.05 mV)\n",
    "\n",
    "**Value 2**: showing probable or definite left ventricular hypertrophy by Estes' criteria\n",
    "\n",
    "**thalach**: maximum heart rate achieved\n",
    "\n",
    "**target**: 0= less chance of heart attack 1= more chance of heart attack"
   ]
  },
  {
   "cell_type": "code",
   "execution_count": 1,
   "metadata": {},
   "outputs": [],
   "source": [
    "# As the followed code did not work, I had to install the following package\n",
    "# %load_ext rpy2.ipython\n",
    "# I installed this in the terminal: conda install -c r r-essentials, conda install -c r rpy2, pip install tzlocal & pip install --upgrade rpy2, pip install --force-reinstall cffi"
   ]
  },
  {
   "cell_type": "code",
   "execution_count": 9,
   "metadata": {},
   "outputs": [],
   "source": [
    "# Had to load the following command to generate R in my vs code jupyter notebook\n",
    "%load_ext rpy2.ipython\n"
   ]
  },
  {
   "cell_type": "code",
   "execution_count": 13,
   "metadata": {},
   "outputs": [
    {
     "name": "stdout",
     "output_type": "stream",
     "text": [
      "  age sex cp trtbps chol fbs restecg thalachh exng oldpeak slp caa thall output\n",
      "1  63   1  3    145  233   1       0      150    0     2.3   0   0     1      1\n",
      "2  37   1  2    130  250   0       1      187    0     3.5   0   0     2      1\n",
      "3  41   0  1    130  204   0       0      172    0     1.4   2   0     2      1\n",
      "4  56   1  1    120  236   0       1      178    0     0.8   2   0     2      1\n",
      "5  57   0  0    120  354   0       1      163    1     0.6   2   0     2      1\n",
      "6  57   1  0    140  192   0       1      148    0     0.4   1   0     1      1\n"
     ]
    }
   ],
   "source": [
    "%%R\n",
    "\n",
    "data <- read.csv('/Users/jesse/Desktop/School/University of San Diego/ADS 502- Applied Data Mining/Group Project/heart.csv')\n",
    "head(data)"
   ]
  },
  {
   "cell_type": "code",
   "execution_count": 18,
   "metadata": {},
   "outputs": [
    {
     "name": "stdout",
     "output_type": "stream",
     "text": [
      "[1] 303  14\n"
     ]
    }
   ],
   "source": [
    "%%R\n",
    "# Sought to identify the total observations & attributes of the DS\n",
    "dim(data)"
   ]
  },
  {
   "cell_type": "code",
   "execution_count": 21,
   "metadata": {},
   "outputs": [
    {
     "name": "stdout",
     "output_type": "stream",
     "text": [
      "[1] 0\n"
     ]
    }
   ],
   "source": [
    "%%R\n",
    "# Wanted to see if there was any null values\n",
    "sum(is.na(data))"
   ]
  },
  {
   "cell_type": "code",
   "execution_count": null,
   "metadata": {},
   "outputs": [],
   "source": []
  }
 ],
 "metadata": {
  "kernelspec": {
   "display_name": "Python 3.7.7 ('ADS502')",
   "language": "python",
   "name": "python3"
  },
  "language_info": {
   "codemirror_mode": {
    "name": "ipython",
    "version": 3
   },
   "file_extension": ".py",
   "mimetype": "text/x-python",
   "name": "python",
   "nbconvert_exporter": "python",
   "pygments_lexer": "ipython3",
   "version": "3.7.7"
  },
  "orig_nbformat": 4,
  "vscode": {
   "interpreter": {
    "hash": "796c0ea7ced6f336a76f59f66a5532c591c03f4737dce09c64b88652533010c8"
   }
  }
 },
 "nbformat": 4,
 "nbformat_minor": 2
}
